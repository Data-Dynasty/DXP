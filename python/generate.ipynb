{
 "cells": [
  {
   "cell_type": "code",
   "execution_count": null,
   "metadata": {},
   "outputs": [],
   "source": [
    "import pandas as pd\n",
    "import numpy as np\n",
    "\n",
    "# Create a sample dataframe with random values\n",
    "df = pd.DataFrame(np.random.rand(10, 5), columns=['a', 'b', 'c', 'd', 'title'])\n",
    "\n",
    "# Save the dataframe as a csv file\n",
    "df.to_csv('data.csv', index=False)\n",
    "\n",
    "# Read the csv file\n",
    "df = pd.read_csv('data.csv')\n",
    "\n",
    "# Print the first 4 rows\n",
    "data = df.head(4)\n",
    "print(data)\n",
    "\n",
    "# Print the summary statistics\n",
    "print(data.describe())\n",
    "\n",
    "# Print the values as a numpy array\n",
    "print(data.values)\n",
    "\n",
    "# Print the row and column labels\n",
    "print(data.axes)\n"
   ]
  }
 ],
 "metadata": {
  "language_info": {
   "name": "python"
  },
  "orig_nbformat": 4
 },
 "nbformat": 4,
 "nbformat_minor": 2
}
